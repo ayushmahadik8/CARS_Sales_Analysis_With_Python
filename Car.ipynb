{
 "cells": [
  {
   "cell_type": "markdown",
   "id": "f1284b72-c895-4c58-b814-4a73c0cfc64b",
   "metadata": {},
   "source": [
    "#Cars data for data analysis"
   ]
  },
  {
   "cell_type": "code",
   "execution_count": 1,
   "id": "2e3e723f-ca9b-4acc-882d-0319a2d77d09",
   "metadata": {},
   "outputs": [],
   "source": [
    "#Step 1 ; Importing the python library in notebooks \n",
    "import numpy as n \n",
    "import pandas as p \n",
    "import seaborn as s\n",
    "import matplotlib.pyplot as m \n",
    "\n",
    "\n",
    "#step 2 ; importing CSV file and out in notebooks "
   ]
  },
  {
   "cell_type": "code",
   "execution_count": 2,
   "id": "d0b62903-c4b7-4d1e-b8d1-70748dc6ffe9",
   "metadata": {},
   "outputs": [
    {
     "name": "stdout",
     "output_type": "stream",
     "text": [
      "      Make                    Model   Type  Origin DriveTrain      MSRP  \\\n",
      "0    Acura                      MDX    SUV    Asia        All  $36,945    \n",
      "1    Acura           RSX Type S 2dr  Sedan    Asia      Front  $23,820    \n",
      "2    Acura                  TSX 4dr  Sedan    Asia      Front  $26,990    \n",
      "3    Acura                   TL 4dr  Sedan    Asia      Front  $33,195    \n",
      "4    Acura               3.5 RL 4dr  Sedan    Asia      Front  $43,755    \n",
      "..     ...                      ...    ...     ...        ...       ...   \n",
      "427  Volvo  C70 LPT convertible 2dr  Sedan  Europe      Front  $40,565    \n",
      "428  Volvo  C70 HPT convertible 2dr  Sedan  Europe      Front  $42,565    \n",
      "429  Volvo               S80 T6 4dr  Sedan  Europe      Front  $45,210    \n",
      "430  Volvo                      V40  Wagon  Europe      Front  $26,135    \n",
      "431  Volvo                     XC70  Wagon  Europe        All  $35,145    \n",
      "\n",
      "      Invoice  EngineSize  Cylinders  Horsepower  MPG_City  MPG_Highway  \\\n",
      "0    $33,337          3.5        6.0       265.0      17.0         23.0   \n",
      "1    $21,761          2.0        4.0       200.0      24.0         31.0   \n",
      "2    $24,647          2.4        4.0       200.0      22.0         29.0   \n",
      "3    $30,299          3.2        6.0       270.0      20.0         28.0   \n",
      "4    $39,014          3.5        6.0       225.0      18.0         24.0   \n",
      "..        ...         ...        ...         ...       ...          ...   \n",
      "427  $38,203          2.4        5.0       197.0      21.0         28.0   \n",
      "428  $40,083          2.3        5.0       242.0      20.0         26.0   \n",
      "429  $42,573          2.9        6.0       268.0      19.0         26.0   \n",
      "430  $24,641          1.9        4.0       170.0      22.0         29.0   \n",
      "431  $33,112          2.5        5.0       208.0      20.0         27.0   \n",
      "\n",
      "     Weight  Wheelbase  Length  \n",
      "0    4451.0      106.0   189.0  \n",
      "1    2778.0      101.0   172.0  \n",
      "2    3230.0      105.0   183.0  \n",
      "3    3575.0      108.0   186.0  \n",
      "4    3880.0      115.0   197.0  \n",
      "..      ...        ...     ...  \n",
      "427  3450.0      105.0   186.0  \n",
      "428  3450.0      105.0   186.0  \n",
      "429  3653.0      110.0   190.0  \n",
      "430  2822.0      101.0   180.0  \n",
      "431  3823.0      109.0   186.0  \n",
      "\n",
      "[432 rows x 15 columns]\n"
     ]
    },
    {
     "ename": "NameError",
     "evalue": "name 'car' is not defined",
     "output_type": "error",
     "traceback": [
      "\u001b[1;31m---------------------------------------------------------------------------\u001b[0m",
      "\u001b[1;31mNameError\u001b[0m                                 Traceback (most recent call last)",
      "Cell \u001b[1;32mIn[2], line 3\u001b[0m\n\u001b[0;32m      1\u001b[0m cars \u001b[38;5;241m=\u001b[39m p\u001b[38;5;241m.\u001b[39mread_csv(\u001b[38;5;124mr\u001b[39m\u001b[38;5;124m\"\u001b[39m\u001b[38;5;124mC:\u001b[39m\u001b[38;5;124m\\\u001b[39m\u001b[38;5;124mUsers\u001b[39m\u001b[38;5;124m\\\u001b[39m\u001b[38;5;124mAayush\u001b[39m\u001b[38;5;124m\\\u001b[39m\u001b[38;5;124mDownloads\u001b[39m\u001b[38;5;124m\\\u001b[39m\u001b[38;5;124mfile.csv\u001b[39m\u001b[38;5;124m\"\u001b[39m)\n\u001b[0;32m      2\u001b[0m \u001b[38;5;28mprint\u001b[39m(cars)\n\u001b[1;32m----> 3\u001b[0m \u001b[43mcar\u001b[49m\u001b[38;5;241m.\u001b[39mshape\n",
      "\u001b[1;31mNameError\u001b[0m: name 'car' is not defined"
     ]
    }
   ],
   "source": [
    "cars = p.read_csv(r\"C:\\Users\\Aayush\\Downloads\\file.csv\")\n",
    "print(cars)\n",
    "car.shape"
   ]
  },
  {
   "cell_type": "code",
   "execution_count": null,
   "id": "1ca02d48-0a26-435d-983c-48779559b1e4",
   "metadata": {},
   "outputs": [],
   "source": [
    "#step 3 ; show only top 5 rows \n",
    "cars.head()"
   ]
  },
  {
   "cell_type": "code",
   "execution_count": null,
   "id": "59152754-44f4-4768-b9e2-beeff5605d7e",
   "metadata": {},
   "outputs": [],
   "source": [
    "#step 3 : showing only bottom 5 rows \n",
    "cars.tail()\n"
   ]
  },
  {
   "cell_type": "markdown",
   "id": "c3d50edd-8822-4a68-8bbc-a4007f139fd7",
   "metadata": {},
   "source": [
    "1.  Instrument( For Cleaning )\n",
    "        Find all Null in the dataset. if there is any value in any column, then fill it with the mean of that column.\n",
    "\n",
    "cars.isnull().sum()"
   ]
  },
  {
   "cell_type": "code",
   "execution_count": null,
   "id": "7a603913-70c4-45b9-959d-ea3dd5842f73",
   "metadata": {},
   "outputs": [],
   "source": [
    "cars['Make'].fillna(cars['Make'].mode()[0],inplace=True)"
   ]
  },
  {
   "cell_type": "code",
   "execution_count": null,
   "id": "94e0042b-257f-4578-86fe-30fd3bd72d18",
   "metadata": {},
   "outputs": [],
   "source": [
    "cars['Model'].fillna(cars['Model'].mode()[0],inplace=True)\n",
    "cars['Type'].fillna(cars['Type'].mode()[0],inplace=True)\n",
    "cars['Origin'].fillna(cars['Origin'].mode()[0],inplace=True)\n",
    "cars['DriveTrain'].fillna(cars['DriveTrain'].mode()[0],inplace=True)\n",
    "cars['MSRP'].fillna(cars['MSRP'].mode()[0],inplace=True)\n",
    "cars['EngineSize'].fillna(cars['EngineSize'].mode()[0],inplace=True)\n",
    "cars['Cylinders'].fillna(cars['Cylinders'].mode()[0],inplace=True) \n",
    "cars['Horsepower'].fillna(cars['Horsepower'].mode()[0],inplace=True)\n",
    "cars['MPG_City'].fillna(cars['MPG_City'].mode()[0],inplace=True)\n",
    "cars['MPG_Highway'].fillna(cars['MPG_Highway'].mode()[0],inplace=True)\n",
    "cars['Weight'].fillna(cars['Weight'].mode()[0],inplace=True)\n",
    "cars['Wheelbase'].fillna(cars['Wheelbase'].mode()[0],inplace=True)\n",
    "cars['Length'].fillna(cars['Length'].mode()[0],inplace=True)\n",
    "cars['Invoice'].fillna(cars['Invoice'].mode()[0],inplace=True)"
   ]
  },
  {
   "cell_type": "markdown",
   "id": "30bf72a5-7ee3-4464-a898-9eef516af205",
   "metadata": {},
   "source": [
    "2. Value Count function \n",
    "#>> Check what are the different type of Make are there in out datset.And, what is hte count(accurrence) of each Make in the data?"
   ]
  },
  {
   "cell_type": "code",
   "execution_count": null,
   "id": "be603d90-d818-4381-bf04-c61b0d35cd96",
   "metadata": {},
   "outputs": [],
   "source": [
    "cars['Make'].value_counts()"
   ]
  },
  {
   "cell_type": "markdown",
   "id": "44ea1a53-f02e-487f-837a-573a890740dc",
   "metadata": {},
   "source": [
    "3. Filtering the datas \n",
    "   >> Show all the records where Origin is Ais and Europe."
   ]
  },
  {
   "cell_type": "code",
   "execution_count": null,
   "id": "db72c4fc-4a67-472d-a2b9-258798b04900",
   "metadata": {},
   "outputs": [],
   "source": [
    "cars[cars['Origin'].isin(['Aisa','Europe'])]"
   ]
  },
  {
   "cell_type": "markdown",
   "id": "6bff4fb3-72a3-43b0-876f-493567d8743a",
   "metadata": {},
   "source": [
    "4. Removing unwanted records \n",
    "   >> Remove all the records(Rows) where Weight is above 4000."
   ]
  },
  {
   "cell_type": "code",
   "execution_count": null,
   "id": "46e2d214-bda1-4e5b-aeb5-990a2d6437fa",
   "metadata": {},
   "outputs": [],
   "source": [
    "cars[~(cars['Weight']>4000)]"
   ]
  },
  {
   "cell_type": "markdown",
   "id": "f70f1239-2ea0-4403-9891-3d4b6d5ad7b6",
   "metadata": {},
   "source": [
    "5. : Applying function on a column \n",
    "       Increase all the value of \"MPG_City\" column by 3 \n",
    "       "
   ]
  },
  {
   "cell_type": "code",
   "execution_count": null,
   "id": "463eb01e-c01b-45a6-9b23-da7e924b891c",
   "metadata": {},
   "outputs": [],
   "source": [
    "cars['MPG_City'] = cars['MPG_City'].apply(lambda x:x+3)"
   ]
  },
  {
   "cell_type": "code",
   "execution_count": null,
   "id": "390344a9-3c07-4d91-a393-8f4bbc649e5b",
   "metadata": {},
   "outputs": [],
   "source": [
    "cars.head()"
   ]
  },
  {
   "cell_type": "markdown",
   "id": "591cfc34-20e5-4f93-aceb-0742094f00ba",
   "metadata": {},
   "source": [
    "#Exploratory Data Analysis "
   ]
  },
  {
   "cell_type": "code",
   "execution_count": 4,
   "id": "fa85a236-f311-46e5-82d1-011fb63f099b",
   "metadata": {},
   "outputs": [
    {
     "data": {
      "text/plain": [
       "<Axes: xlabel='Type', ylabel='count'>"
      ]
     },
     "execution_count": 4,
     "metadata": {},
     "output_type": "execute_result"
    },
    {
     "data": {
      "image/png": "[encoded data removed]",
      "text/plain": [
       "<Figure size 640x480 with 1 Axes>"
      ]
     },
     "metadata": {},
     "output_type": "display_data"
    }
   ],
   "source": [
    "s.countplot(x='Type',data=cars)"
   ]
  },
  {
   "cell_type": "markdown",
   "id": "b9e233a0-2baf-452e-bdfc-54818ef01f32",
   "metadata": {},
   "source": [
    "1. TOP 5 Selling Car Brands "
   ]
  },
  {
   "cell_type": "code",
   "execution_count": 3,
   "id": "70fb08cd-832e-41fb-bbcf-c0405c9aaaaf",
   "metadata": {},
   "outputs": [
    {
     "name": "stderr",
     "output_type": "stream",
     "text": [
      "C:\\Users\\Aayush\\AppData\\Local\\Temp\\ipykernel_16564\\3685258049.py:4: FutureWarning: \n",
      "\n",
      "Passing `palette` without assigning `hue` is deprecated and will be removed in v0.14.0. Assign the `x` variable to `hue` and set `legend=False` for the same effect.\n",
      "\n",
      "  s.barplot(x=top_brands.index,\n"
     ]
    },
    {
     "data": {
      "image/png": "[encoded data removed]",
      "text/plain": [
       "<Figure size 1000x500 with 1 Axes>"
      ]
     },
     "metadata": {},
     "output_type": "display_data"
    }
   ],
   "source": [
    "top_brands = cars[\"Make\"].value_counts().head(5)\n",
    "#Plotting \n",
    "m.figure(figsize=(10,5))\n",
    "s.barplot(x=top_brands.index,\n",
    "          y=top_brands.values,\n",
    "          palette =\"viridis\")\n",
    "m.title(\"Top 5 Car Brands in cars\")\n",
    "m.xlabel(\"car Brand\")\n",
    "m.ylabel(\"Number of cars\")\n",
    "m.xticks(rotation=45)\n",
    "m.show()"
   ]
  },
  {
   "cell_type": "markdown",
   "id": "1ef4da8e-bd81-4c11-ac7c-380f2271d29c",
   "metadata": {},
   "source": [
    "2. SUV AND SEDAN SALES TRENDS\n",
    "   "
   ]
  },
  {
   "cell_type": "code",
   "execution_count": null,
   "id": "d2249774-7251-4ed1-b00b-251ca38884e8",
   "metadata": {},
   "outputs": [],
   "source": [
    "cars_type = cars['Type'].value_counts()"
   ]
  },
  {
   "cell_type": "code",
   "execution_count": null,
   "id": "cc1dfce6-c462-4d5e-a845-1ba848a6a3d5",
   "metadata": {},
   "outputs": [],
   "source": [
    "#plotting in bar charts formate \n",
    "\n",
    "m.figure(figsize=(10,5))\n",
    "s.barplot(x=cars_type.index,y=cars_type.values,palette=\"coolwarm\")\n",
    "m.title(\"Car Type distribution\")\n",
    "m.xlabel(\"car Type\")\n",
    "m.ylabel(\"Numbers of cars\")\n",
    "m.show()"
   ]
  },
  {
   "cell_type": "markdown",
   "id": "e94a8a8e-2ec8-4e7c-a2c5-83c18bbe0a02",
   "metadata": {},
   "source": [
    "3 Engine Size Vs Horsepower with scatter plot \n"
   ]
  },
  {
   "cell_type": "code",
   "execution_count": null,
   "id": "564566cf-c022-4f7d-9649-cdad48298fbe",
   "metadata": {},
   "outputs": [],
   "source": [
    "m.figure(figsize=(10,5))\n",
    "s.scatterplot(x=cars[\"EngineSize\"],y=cars[\"Horsepower\"],\n",
    "                     color='blue',\n",
    "                     alpha=0.7)\n",
    "m.title(\"Engine Size Vs HorsePower\")\n",
    "m.xlabel(\"Engine Size(Liters)\")\n",
    "m.ylabel(\"Horsepower\")\n",
    "m.show()"
   ]
  },
  {
   "cell_type": "markdown",
   "id": "70c982f7-05e6-46ff-90f5-c0e696ee3eef",
   "metadata": {},
   "source": [
    "4 Mileage (MPG) Analysis with scatter plot"
   ]
  },
  {
   "cell_type": "code",
   "execution_count": null,
   "id": "15b61b44-8c3f-42ab-9679-3be3436e737b",
   "metadata": {},
   "outputs": [],
   "source": [
    "m.figure(figsize=(10,5))\n",
    "s.scatterplot(x=cars[\"MPG_City\"],y=cars[\"MPG_Highway\"],\n",
    "                       color=\"Yellow\",\n",
    "                       alpha=0.7)\n",
    "m.title(\"Mileage \")\n",
    "m.xlabel(\"MPG_City\")\n",
    "m.ylabel(\"MPG_Highway\")\n",
    "m.show()         "
   ]
  },
  {
   "cell_type": "code",
   "execution_count": null,
   "id": "cd00ec02-e514-41be-817c-26ae86d27ac6",
   "metadata": {},
   "outputs": [],
   "source": []
  }
 ],
 "metadata": {
  "kernelspec": {
   "display_name": "Python 3 (ipykernel)",
   "language": "python",
   "name": "python3"
  },
  "language_info": {
   "codemirror_mode": {
    "name": "ipython",
    "version": 3
   },
   "file_extension": ".py",
   "mimetype": "text/x-python",
   "name": "python",
   "nbconvert_exporter": "python",
   "pygments_lexer": "ipython3",
   "version": "3.12.2"
  }
 },
 "nbformat": 4,
 "nbformat_minor": 5
}
